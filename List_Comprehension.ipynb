{
  "nbformat": 4,
  "nbformat_minor": 0,
  "metadata": {
    "colab": {
      "provenance": [],
      "authorship_tag": "ABX9TyMKavbkO8F81XGHXbLtgTFf",
      "include_colab_link": true
    },
    "kernelspec": {
      "name": "python3",
      "display_name": "Python 3"
    },
    "language_info": {
      "name": "python"
    }
  },
  "cells": [
    {
      "cell_type": "markdown",
      "metadata": {
        "id": "view-in-github",
        "colab_type": "text"
      },
      "source": [
        "<a href=\"https://colab.research.google.com/github/AbdulAhadRauf/Working-with-List-Comprehension/blob/main/List_Comprehension.ipynb\" target=\"_parent\"><img src=\"https://colab.research.google.com/assets/colab-badge.svg\" alt=\"Open In Colab\"/></a>"
      ]
    },
    {
      "cell_type": "markdown",
      "source": [
        "# List Comprehension"
      ],
      "metadata": {
        "id": "0FnD5E2ZWsFh"
      }
    },
    {
      "cell_type": "code",
      "source": [
        "new_list = [1,2,3]\n",
        "new_new_list = []"
      ],
      "metadata": {
        "id": "ziunfp-6W39l"
      },
      "execution_count": 1,
      "outputs": []
    },
    {
      "cell_type": "code",
      "source": [
        "#OLD METHOD\n",
        "for i in new_list:\n",
        "    x = int(i) +1\n",
        "    new_new_list.append(x)\n",
        "print(new_new_list)"
      ],
      "metadata": {
        "colab": {
          "base_uri": "https://localhost:8080/"
        },
        "id": "yrSn_kfdW5jA",
        "outputId": "781f0f14-958d-42b2-9a89-1228a52b64f1"
      },
      "execution_count": 2,
      "outputs": [
        {
          "output_type": "stream",
          "name": "stdout",
          "text": [
            "[2, 3, 4]\n"
          ]
        }
      ]
    },
    {
      "cell_type": "code",
      "source": [
        "#NEW METHOD\n",
        "#que1\n",
        "new_new_list = [i+1 for i in new_list]\n",
        "print(new_new_list)"
      ],
      "metadata": {
        "colab": {
          "base_uri": "https://localhost:8080/"
        },
        "id": "qq18ZI1PXAnk",
        "outputId": "b0e00e18-0584-4d42-87c4-981956500449"
      },
      "execution_count": 3,
      "outputs": [
        {
          "output_type": "stream",
          "name": "stdout",
          "text": [
            "[2, 3, 4]\n"
          ]
        }
      ]
    },
    {
      "cell_type": "code",
      "source": [
        "#que2\n",
        "name = \"Abdul Ahad Rauf\"\n",
        "new_name = [i for i in name]\n",
        "print(new_name)\n",
        "print(''.join(new_name))"
      ],
      "metadata": {
        "colab": {
          "base_uri": "https://localhost:8080/"
        },
        "id": "vn88fveRXD-s",
        "outputId": "a832998f-11b1-411a-f0a5-4aa1281f62d1"
      },
      "execution_count": 8,
      "outputs": [
        {
          "output_type": "stream",
          "name": "stdout",
          "text": [
            "['A', 'b', 'd', 'u', 'l', ' ', 'A', 'h', 'a', 'd', ' ', 'R', 'a', 'u', 'f']\n",
            "Abdul Ahad Rauf\n"
          ]
        }
      ]
    },
    {
      "cell_type": "code",
      "source": [
        "#que3\n",
        "new_range = [i*2 for i in range(1,5)]\n",
        "print(new_range)"
      ],
      "metadata": {
        "colab": {
          "base_uri": "https://localhost:8080/"
        },
        "id": "GnAE0n24XFsF",
        "outputId": "04d77b78-4bae-4381-b951-ee087c4c187e"
      },
      "execution_count": 5,
      "outputs": [
        {
          "output_type": "stream",
          "name": "stdout",
          "text": [
            "[2, 4, 6, 8]\n"
          ]
        }
      ]
    },
    {
      "cell_type": "code",
      "execution_count": 6,
      "metadata": {
        "colab": {
          "base_uri": "https://localhost:8080/"
        },
        "id": "n4lVnSocWpgm",
        "outputId": "fad8c737-a9d9-46f7-ceff-6b1726e6a1cc"
      },
      "outputs": [
        {
          "output_type": "stream",
          "name": "stdout",
          "text": [
            "[['C', 'A', 'R', 'O', 'L', 'I', 'N', 'E'], ['E', 'L', 'E', 'A', 'N', 'E', 'O', 'R'], ['F', 'R', 'E', 'D', 'D', 'I', 'E']]\n"
          ]
        }
      ],
      "source": [
        "#que 4\n",
        "names = ['alex' , 'beth', 'caroline', 'dave' , 'eleaneor',  'Freddie']\n",
        "new_name = [[n for n in name.upper()] for name in names if len(name)>4]\n",
        "print(new_name) "
      ]
    },
    {
      "cell_type": "code",
      "source": [
        "#que 5.a\n",
        "TheList = [1,1,2,3,5,8,13,21,34,55]\n",
        "squared_numbers = [n**2 for n in TheList]\n",
        "print(squared_numbers)"
      ],
      "metadata": {
        "colab": {
          "base_uri": "https://localhost:8080/"
        },
        "id": "6JJnM6h2Xnj1",
        "outputId": "430e6be8-3212-4c25-f40d-9c0932af692a"
      },
      "execution_count": 9,
      "outputs": [
        {
          "output_type": "stream",
          "name": "stdout",
          "text": [
            "[1, 1, 4, 9, 25, 64, 169, 441, 1156, 3025]\n"
          ]
        }
      ]
    },
    {
      "cell_type": "code",
      "source": [
        "#que 5.b\n",
        "squared_even_numbers =[n for n in TheList if n%2==0]\n",
        "print(squared_even_numbers)"
      ],
      "metadata": {
        "colab": {
          "base_uri": "https://localhost:8080/"
        },
        "id": "b_PJapEIYaaD",
        "outputId": "66754ac5-fd3d-4dd7-9136-d4efb3bdaba8"
      },
      "execution_count": 12,
      "outputs": [
        {
          "output_type": "stream",
          "name": "stdout",
          "text": [
            "[2, 8, 34]\n"
          ]
        }
      ]
    }
  ]
}