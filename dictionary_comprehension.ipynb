{
  "nbformat": 4,
  "nbformat_minor": 0,
  "metadata": {
    "colab": {
      "provenance": [],
      "authorship_tag": "ABX9TyOXecYqD0lYXjA1dxN3+BUk",
      "include_colab_link": true
    },
    "kernelspec": {
      "name": "python3",
      "display_name": "Python 3"
    },
    "language_info": {
      "name": "python"
    }
  },
  "cells": [
    {
      "cell_type": "markdown",
      "metadata": {
        "id": "view-in-github",
        "colab_type": "text"
      },
      "source": [
        "<a href=\"https://colab.research.google.com/github/AbdulAhadRauf/Working-with-List-Comprehension/blob/main/dictionary_comprehension.ipynb\" target=\"_parent\"><img src=\"https://colab.research.google.com/assets/colab-badge.svg\" alt=\"Open In Colab\"/></a>"
      ]
    },
    {
      "cell_type": "markdown",
      "source": [
        "#Dictionary Comprehension\n",
        "\n"
      ],
      "metadata": {
        "id": "zho8M-mYlbjJ"
      }
    },
    {
      "cell_type": "code",
      "source": [
        "import random\n",
        "names = ['alex' , 'beth', 'caroline', 'dave' , 'eleaneor',  'Freddie']\n",
        "scores = {name:random.randint(40,100) for name in names}\n",
        "print(scores)"
      ],
      "metadata": {
        "colab": {
          "base_uri": "https://localhost:8080/"
        },
        "id": "Ymu1dCUfn4zv",
        "outputId": "40ef960a-c6ea-4768-8820-6dd918de9090"
      },
      "execution_count": 20,
      "outputs": [
        {
          "output_type": "stream",
          "name": "stdout",
          "text": [
            "{'alex': 97, 'beth': 72, 'caroline': 48, 'dave': 90, 'eleaneor': 57, 'Freddie': 98}\n"
          ]
        }
      ]
    },
    {
      "cell_type": "code",
      "source": [
        "score = {'alex': 90, 'beth': 43, 'caroline': 62, 'dave': 88, 'eleaneor': 64, 'Freddie': 57}\n",
        "passed = {i:scores[i] for i in scores if scores[i]>=80}\n",
        "print(passed)"
      ],
      "metadata": {
        "colab": {
          "base_uri": "https://localhost:8080/"
        },
        "id": "C5RsbJQwnfdQ",
        "outputId": "98823edb-e886-4d4c-9258-d02b31145435"
      },
      "execution_count": 22,
      "outputs": [
        {
          "output_type": "stream",
          "name": "stdout",
          "text": [
            "{'alex': 97, 'dave': 90, 'Freddie': 98}\n"
          ]
        }
      ]
    },
    {
      "cell_type": "code",
      "execution_count": 8,
      "metadata": {
        "id": "XAffZEcNlWcz"
      },
      "outputs": [],
      "source": [
        "sentence = \"What is the airspeed velocity of an unladen swallow\""
      ]
    },
    {
      "cell_type": "code",
      "source": [
        "#Que 1.)\n",
        "output = {word:len(word) for word in sentence.title().split(\" \")}\n",
        "print(output)"
      ],
      "metadata": {
        "colab": {
          "base_uri": "https://localhost:8080/"
        },
        "id": "g8aeGH-ymFyX",
        "outputId": "1c160a36-e3f9-49e5-913c-8e2bfbcdc2c8"
      },
      "execution_count": 23,
      "outputs": [
        {
          "output_type": "stream",
          "name": "stdout",
          "text": [
            "{'What': 4, 'Is': 2, 'The': 3, 'Airspeed': 8, 'Velocity': 8, 'Of': 2, 'An': 2, 'Unladen': 7, 'Swallow': 7}\n"
          ]
        }
      ]
    },
    {
      "cell_type": "code",
      "source": [
        "#Que 2.) Convert celsius to fahrenheit\n",
        "weather_c = {\n",
        "    \"Monday\" : 12,\n",
        "    \"Tuesday\" : 14,\n",
        "    \"Wednesday\" : 15,\n",
        "    \"Thursday\" : 14,\n",
        "    \"Friday\" : 21,\n",
        "    \"Saturday\" : 22,\n",
        "    \"Sunday\" : 24\n",
        "    }\n",
        "    \n",
        "def f_calc(cel):\n",
        "  f = (cel*9/5) + 32\n",
        "  return f"
      ],
      "metadata": {
        "id": "cOk9363ro6Uw"
      },
      "execution_count": 25,
      "outputs": []
    },
    {
      "cell_type": "code",
      "source": [
        "weather_f = {day:f_calc(cel) for (day,cel) in weather_c.items()}\n",
        "print(weather_f)"
      ],
      "metadata": {
        "colab": {
          "base_uri": "https://localhost:8080/"
        },
        "id": "6R2qJSnbpsfw",
        "outputId": "ab2ca27d-27b0-42b5-f909-176d716b04a2"
      },
      "execution_count": 27,
      "outputs": [
        {
          "output_type": "stream",
          "name": "stdout",
          "text": [
            "{'Monday': 53.6, 'Tuesday': 57.2, 'Wednesday': 59.0, 'Thursday': 57.2, 'Friday': 69.8, 'Saturday': 71.6, 'Sunday': 75.2}\n"
          ]
        }
      ]
    },
    {
      "cell_type": "markdown",
      "source": [
        "# To Print the phonetic words for each letter"
      ],
      "metadata": {
        "id": "6MvKa4sx0xkc"
      }
    },
    {
      "cell_type": "code",
      "source": [
        "import pandas\n",
        "data = pandas.read_csv('nato_phonetic_alphabet.csv')\n",
        "phonetic_dict = {row.letter:row.code for (index,row) in data.iterrows()}\n",
        "\n",
        "guess = input(\"Enter Name: \").upper()\n",
        "coded = [phonetic_dict[n] for n in guess]\n",
        "\n",
        "print(coded)"
      ],
      "metadata": {
        "id": "8XSbfNO40wNy"
      },
      "execution_count": null,
      "outputs": []
    }
  ]
}